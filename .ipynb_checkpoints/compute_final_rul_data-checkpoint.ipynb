{
 "cells": [
  {
   "cell_type": "code",
   "execution_count": 34,
   "metadata": {},
   "outputs": [],
   "source": [
    "import pandas as pd\n",
    "from itables import show\n",
    "from itables import options as opt\n",
    "import numpy as np\n",
    "import csv\n",
    "from rul_utils import compute_final_rul_data\n",
    "from rul_utils import normalize_rul\n",
    "from rul_utils import split_data\n"
   ]
  },
  {
   "cell_type": "code",
   "execution_count": 35,
   "metadata": {},
   "outputs": [],
   "source": [
    "full_data=pd.read_csv('data/final_normal_rul_data.csv')"
   ]
  },
  {
   "cell_type": "code",
   "execution_count": 36,
   "metadata": {},
   "outputs": [],
   "source": [
    "tr, ts= split_data(full_data,0.7)"
   ]
  },
  {
   "cell_type": "code",
   "execution_count": 37,
   "metadata": {},
   "outputs": [],
   "source": [
    "tr.drop('Unnamed: 0',axis='columns', inplace=True)"
   ]
  },
  {
   "cell_type": "code",
   "execution_count": 40,
   "metadata": {},
   "outputs": [],
   "source": [
    "tr.drop('Unnamed: 0.1',axis='columns', inplace=True)"
   ]
  },
  {
   "cell_type": "code",
   "execution_count": 42,
   "metadata": {},
   "outputs": [],
   "source": [
    "tr.to_csv('data/tr.csv')\n",
    "ts.to_csv('data/tw.csv')"
   ]
  },
  {
   "cell_type": "code",
   "execution_count": 43,
   "metadata": {},
   "outputs": [],
   "source": [
    "#test 1\n",
    "i=0\n",
    "for index, row in full_data.iterrows():\n",
    "    if full_data['rul'][index]==0.5:\n",
    "        for j in range(0,10):\n",
    "            print('{} | {} | {}'.format(full_data['node'][index+j],full_data['is_rising_anomaly'][index+j],full_data['rul'][index+j]))\n",
    "        i=i+1\n",
    "        if i==5:\n",
    "            break\n",
    "        print('\\n\\n')"
   ]
  },
  {
   "cell_type": "code",
   "execution_count": null,
   "metadata": {},
   "outputs": [],
   "source": []
  },
  {
   "cell_type": "code",
   "execution_count": null,
   "metadata": {},
   "outputs": [
    {
     "name": "stdout",
     "output_type": "stream",
     "text": [
      "5907 | r169c03s01 | 0.0 | 0.0005130178273695012\n",
      "5908 | r169c03s01 | 0.0 | 0.0003847633705271258\n",
      "5909 | r169c03s01 | 0.0 | 0.00025650891368475054\n",
      "5910 | r169c03s01 | 0.0 | 0.00012825445684237527\n",
      "5911 | r169c03s01 | 1.0 | 0.0\n",
      "5912 | r173c16s02 | 0.0 | 0.4672309862767731\n",
      "5913 | r173c16s02 | 0.0 | 0.4671027318199307\n",
      "5914 | r173c16s02 | 0.0 | 0.4669744773630884\n",
      "5915 | r173c16s02 | 0.0 | 0.46684622290624606\n",
      "5916 | r173c16s02 | 0.0 | 0.4667179684494036\n",
      "\n",
      "\n",
      "\n",
      "10357 | r173c16s02 | 0.0 | 0.0005130178273695012\n",
      "10358 | r173c16s02 | 0.0 | 0.0003847633705271258\n",
      "10359 | r173c16s02 | 0.0 | 0.00025650891368475054\n",
      "10360 | r173c16s02 | 0.0 | 0.00012825445684237527\n",
      "10361 | r173c16s02 | 1.0 | 0.0\n",
      "10362 | r089c13s04 | 0.0 | 0.8440425804796716\n",
      "10363 | r089c13s04 | 0.0 | 0.8439143260228293\n",
      "10364 | r089c13s04 | 0.0 | 0.8437860715659871\n",
      "10365 | r089c13s04 | 0.0 | 0.8436578171091446\n",
      "10366 | r089c13s04 | 0.0 | 0.8435295626523022\n",
      "\n",
      "\n",
      "\n",
      "33637 | r089c13s04 | 0.0 | 0.0005130178273695012\n",
      "33638 | r089c13s04 | 0.0 | 0.0003847633705271258\n",
      "33639 | r089c13s04 | 0.0 | 0.00025650891368475054\n",
      "33640 | r089c13s04 | 0.0 | 0.00012825445684237527\n",
      "33641 | r089c13s04 | 1.0 | 0.0\n",
      "33642 | r101c09s01 | 0.0 | 0.2240605361036296\n",
      "33643 | r101c09s01 | 0.0 | 0.2239322816467872\n",
      "33644 | r101c09s01 | 0.0 | 0.22380402718994485\n",
      "33645 | r101c09s01 | 0.0 | 0.22367577273310246\n",
      "33646 | r101c09s01 | 0.0 | 0.2235475182762601\n",
      "\n",
      "\n",
      "\n"
     ]
    }
   ],
   "source": [
    "#test2\n",
    "i=0\n",
    "last_node=full_data['node'][0]\n",
    "for index, row in full_data.iterrows():\n",
    "    if full_data['node'][index]!=last_node:\n",
    "        for j in range(-5,5):\n",
    "            print('{} | {} | {} | {}'.format(index+j,full_data['node'][index+j],full_data['is_rising_anomaly'][index+j],full_data['rul'][index+j]))\n",
    "        last_node=full_data['node'][index]\n",
    "        print('\\n\\n')\n",
    "        i=i+1\n",
    "        if i==5:\n",
    "            break"
   ]
  },
  {
   "cell_type": "code",
   "execution_count": null,
   "metadata": {},
   "outputs": [],
   "source": []
  }
 ],
 "metadata": {
  "kernelspec": {
   "display_name": "Python 3",
   "language": "python",
   "name": "python3"
  },
  "language_info": {
   "codemirror_mode": {
    "name": "ipython",
    "version": 3
   },
   "file_extension": ".py",
   "mimetype": "text/x-python",
   "name": "python",
   "nbconvert_exporter": "python",
   "pygments_lexer": "ipython3",
   "version": "3.7.3"
  }
 },
 "nbformat": 4,
 "nbformat_minor": 2
}
